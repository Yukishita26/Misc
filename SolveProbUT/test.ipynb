{
 "cells": [
  {
   "cell_type": "code",
   "execution_count": 1,
   "metadata": {},
   "outputs": [],
   "source": [
    "import numpy as np\n",
    "import pandas as pd\n",
    "import matplotlib.pyplot as plt\n",
    "%matplotlib inline"
   ]
  },
  {
   "cell_type": "code",
   "execution_count": 8,
   "metadata": {},
   "outputs": [
    {
     "data": {
      "text/plain": [
       "array([1, 2, 0, 2, 1, 0, 2, 2, 1, 0, 2, 1])"
      ]
     },
     "execution_count": 8,
     "metadata": {},
     "output_type": "execute_result"
    }
   ],
   "source": []
  },
  {
   "cell_type": "code",
   "execution_count": 9,
   "metadata": {},
   "outputs": [],
   "source": [
    "box = np.array([0,0,0,1,1,1,1,2,2,2,2,2])\n",
    "\n",
    "def trial():\n",
    "    return np.random.choice(box, 12, replace=False)\n",
    "\n",
    "def red(seq):\n",
    "    for i in range(11):\n",
    "        if 1==seq[i]==seq[i+1]:return False\n",
    "    return True\n",
    "\n",
    "def red_and_black(seq):    \n",
    "    for i in range(11):\n",
    "        if 1==seq[i]==seq[i+1]:return False\n",
    "    for i in range(11):\n",
    "        if 0==seq[i]==seq[i+1]:return False\n",
    "    return True"
   ]
  },
  {
   "cell_type": "code",
   "execution_count": 15,
   "metadata": {},
   "outputs": [],
   "source": [
    "def q1(n_trial):\n",
    "    count = 0\n",
    "    for i in range(n_trial):\n",
    "        seq = trial()\n",
    "        count += int(red(seq))\n",
    "    return count"
   ]
  },
  {
   "cell_type": "code",
   "execution_count": 16,
   "metadata": {},
   "outputs": [
    {
     "data": {
      "text/plain": [
       "(0.2511059886906288, 0.2682940113093712)"
      ]
     },
     "execution_count": 16,
     "metadata": {},
     "output_type": "execute_result"
    }
   ],
   "source": [
    "np.random.seed(42)\n",
    "\n",
    "n = 10**4\n",
    "m = q1(n)\n",
    "p = m / n\n",
    "w = ((p*(1-p))/n)**0.5\n",
    "p - 1.96 * w, p + 1.96 * w"
   ]
  },
  {
   "cell_type": "code",
   "execution_count": 17,
   "metadata": {},
   "outputs": [],
   "source": [
    "def q2(n_trial):\n",
    "    count_r = 0\n",
    "    count_rb = 0\n",
    "    for i in range(n_trial):\n",
    "        seq = trial()\n",
    "        r = red(seq)\n",
    "        count_r += int(r)\n",
    "        if r:\n",
    "            count_rb += int(red_and_black(seq))\n",
    "    return count_r, count_rb"
   ]
  },
  {
   "cell_type": "code",
   "execution_count": 18,
   "metadata": {},
   "outputs": [
    {
     "data": {
      "text/plain": [
       "(0.5923398905151163, 0.6298395472977447)"
      ]
     },
     "execution_count": 18,
     "metadata": {},
     "output_type": "execute_result"
    }
   ],
   "source": [
    "np.random.seed(42)\n",
    "\n",
    "n = 10**4\n",
    "m1, m2 = q2(n)\n",
    "p = m2 / m1\n",
    "w = ((p*(1-p))/m1)**0.5\n",
    "p - 1.96 * w, p + 1.96 * w"
   ]
  },
  {
   "cell_type": "code",
   "execution_count": 21,
   "metadata": {},
   "outputs": [
    {
     "data": {
      "text/plain": [
       "(0.2536282835047309, 0.2553357164952691)"
      ]
     },
     "execution_count": 21,
     "metadata": {},
     "output_type": "execute_result"
    }
   ],
   "source": [
    "np.random.seed(42)\n",
    "\n",
    "n = 10**6\n",
    "m = q1(n)\n",
    "p = m / n\n",
    "w = ((p*(1-p))/n)**0.5\n",
    "p - 1.96 * w, p + 1.96 * w"
   ]
  },
  {
   "cell_type": "code",
   "execution_count": 22,
   "metadata": {},
   "outputs": [
    {
     "data": {
      "text/plain": [
       "(0.6097763877498393, 0.6135635734261967)"
      ]
     },
     "execution_count": 22,
     "metadata": {},
     "output_type": "execute_result"
    },
    {
     "ename": "",
     "evalue": "",
     "output_type": "error",
     "traceback": [
      "\u001b[1;31mThe Kernel crashed while executing code in the the current cell or a previous cell. Please review the code in the cell(s) to identify a possible cause of the failure. Click <a href='https://aka.ms/vscodeJupyterKernelCrash'>here</a> for more info. View Jupyter <a href='command:jupyter.viewOutput'>log</a> for further details."
     ]
    }
   ],
   "source": [
    "np.random.seed(42)\n",
    "\n",
    "n = 10**6\n",
    "m1, m2 = q2(n)\n",
    "p = m2 / m1\n",
    "w = ((p*(1-p))/m1)**0.5\n",
    "p - 1.96 * w, p + 1.96 * w"
   ]
  },
  {
   "cell_type": "code",
   "execution_count": null,
   "metadata": {},
   "outputs": [],
   "source": []
  }
 ],
 "metadata": {
  "kernelspec": {
   "display_name": "py11",
   "language": "python",
   "name": "python3"
  },
  "language_info": {
   "codemirror_mode": {
    "name": "ipython",
    "version": 3
   },
   "file_extension": ".py",
   "mimetype": "text/x-python",
   "name": "python",
   "nbconvert_exporter": "python",
   "pygments_lexer": "ipython3",
   "version": "3.11.3"
  },
  "orig_nbformat": 4
 },
 "nbformat": 4,
 "nbformat_minor": 2
}
