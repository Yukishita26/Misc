{
 "cells": [
  {
   "cell_type": "code",
   "execution_count": 15,
   "id": "dd3fecc2",
   "metadata": {},
   "outputs": [
    {
     "data": {
      "image/png": "[encoded data removed]",
      "text/plain": [
       "<Figure size 432x288 with 1 Axes>"
      ]
     },
     "metadata": {
      "needs_background": "light"
     },
     "output_type": "display_data"
    }
   ],
   "source": [
    "import numpy as np\n",
    "import matplotlib.pyplot as plt\n",
    "\n",
    "def new_s(pre_sample):\n",
    "    a = np.random.randint(2)\n",
    "    b = np.random.randint(2)\n",
    "    if a+b==0:\n",
    "        return pre_sample-1\n",
    "    elif a+b==2:\n",
    "        return pre_sample+1\n",
    "    else:\n",
    "        return pre_sample\n",
    "\n",
    "samples=[1]\n",
    "for _ in range(10**5):\n",
    "    new_sample = new_s(samples[-1])\n",
    "    if 1<=new_sample<=3:\n",
    "        samples += [new_sample]\n",
    "    else:\n",
    "        samples += [samples[-1]]\n",
    "\n",
    "plt.hist(samples, bins=[0.5,1.5,2.5,3.5], rwidth=0.5)\n",
    "plt.show()"
   ]
  },
  {
   "cell_type": "code",
   "execution_count": null,
   "id": "d5517b3e",
   "metadata": {},
   "outputs": [],
   "source": []
  }
 ],
 "metadata": {
  "kernelspec": {
   "display_name": "Python 3",
   "language": "python",
   "name": "python3"
  },
  "language_info": {
   "codemirror_mode": {
    "name": "ipython",
    "version": 3
   },
   "file_extension": ".py",
   "mimetype": "text/x-python",
   "name": "python",
   "nbconvert_exporter": "python",
   "pygments_lexer": "ipython3",
   "version": "3.8.10"
  }
 },
 "nbformat": 4,
 "nbformat_minor": 5
}
