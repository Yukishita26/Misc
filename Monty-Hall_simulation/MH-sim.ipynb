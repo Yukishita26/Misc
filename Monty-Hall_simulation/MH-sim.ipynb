{
 "cells": [
  {
   "cell_type": "code",
   "execution_count": 1,
   "metadata": {},
   "outputs": [],
   "source": [
    "import numpy as np\n",
    "from collections import Counter"
   ]
  },
  {
   "cell_type": "code",
   "execution_count": 28,
   "metadata": {},
   "outputs": [],
   "source": [
    "def MH_1(N=3, M=10000, change=False, random_state=42):\n",
    "    rnd = np.random.RandomState(random_state)\n",
    "    for _ in range(M):\n",
    "        # アタリを決定\n",
    "        win = rnd.randint(0, N)\n",
    "        # 適当に選ぶ\n",
    "        selectA = rnd.randint(0, N)\n",
    "        if change:\n",
    "            # 司会が当たり以外を選ぶ\n",
    "            selectsB = set(rnd.choice([i for i in range(N) if i!=selectA and i!=win], N-2))\n",
    "            # 選びなおす\n",
    "            selectA = rnd.choice([i for i in range(N) if i!=selectA and i not in selectsB])\n",
    "            yield int(selectA==win)\n",
    "        else:\n",
    "            yield int(selectA==win)\n",
    "\n",
    "def MH_2(N=3, M=10000, change=False, random_state=42):\n",
    "    rnd = np.random.RandomState(random_state)\n",
    "    for _ in range(M):\n",
    "        # アタリを決定\n",
    "        win = rnd.randint(0, N)\n",
    "        # 適当に選ぶ\n",
    "        selectA = rnd.randint(0, N)\n",
    "        if change:\n",
    "            # 司会が適当に選ぶ\n",
    "            selectsB = set(np.random.choice([i for i in range(N) if i!=selectA], N-2, replace=False))\n",
    "            if win in selectsB:\n",
    "                yield -1\n",
    "                continue\n",
    "            # 選びなおす\n",
    "            selectA = rnd.choice([i for i in range(N) if i!=selectA and i not in selectsB])\n",
    "            yield int(selectA==win)\n",
    "        else:\n",
    "            yield int(selectA==win)\n",
    "\n",
    "def MH_3(N=3, M=10000, change=False, random_state=42):\n",
    "    rnd = np.random.RandomState(random_state)\n",
    "    for _ in range(M):\n",
    "        # アタリを決定\n",
    "        win = rnd.randint(0, N)\n",
    "        # 適当に選ぶ\n",
    "        selectA = rnd.randint(0, N)\n",
    "        # 司会は選択が当たりだった場合だけ不正解を開ける\n",
    "        if selectA==win:\n",
    "            selectsB = ...\n",
    "            if change:\n",
    "                selectA = ... #必ず不正解\n",
    "                yield 0\n",
    "            else:\n",
    "                yield int(selectA==win)\n",
    "        else:\n",
    "            yield int(selectA==win)"
   ]
  },
  {
   "cell_type": "code",
   "execution_count": 34,
   "metadata": {},
   "outputs": [],
   "source": [
    "def MH_sim(N=3, M=10**5):\n",
    "    print(\"司会の行動,回答者の行動,当たり,ハズレ,当たり率\")\n",
    "    res = Counter(MH_1(N, M, False))\n",
    "    print(\"正解を知っている,ドアを変えない,\", res[0],res[1],res[1]/(res[0]+res[1]))\n",
    "    res = Counter(MH_1(N, M, True))\n",
    "    print(\"正解を知っている,ドアを変える,\", res[0],res[1],res[1]/(res[0]+res[1]))\n",
    "    res = Counter(MH_2(N, M, False))\n",
    "    print(\"正解を知らない,ドアを変えない,\", res[0],res[1],res[1]/(res[0]+res[1]))\n",
    "    res = Counter(MH_2(N, M, True))\n",
    "    print(\"正解を知らない,ドアを変える,\", res[0],res[1],res[1]/(res[0]+res[1]))\n",
    "    res = Counter(MH_3(N, M, False))\n",
    "    print(\"ズルをする,ドアを変えない,\", res[0],res[1],res[1]/(res[0]+res[1]))\n",
    "    res = Counter(MH_3(N, M, True))\n",
    "    print(\"ズルをする,ドアを変える,\", res[0],res[1],res[1]/(res[0]+res[1]))"
   ]
  },
  {
   "cell_type": "code",
   "execution_count": 35,
   "metadata": {},
   "outputs": [
    {
     "name": "stdout",
     "output_type": "stream",
     "text": [
      "司会の行動,回答者の行動,当たり,ハズレ,当たり率\n",
      "正解を知っている,ドアを変えない, 66422 33578 0.33578\n",
      "正解を知っている,ドアを変える, 33468 66532 0.66532\n",
      "正解を知らない,ドアを変えない, 66422 33578 0.33578\n",
      "正解を知らない,ドアを変える, 33578 33215 0.497282649379426\n",
      "ズルをする,ドアを変えない, 66422 33578 0.33578\n",
      "ズルをする,ドアを変える, 100000 0 0.0\n"
     ]
    }
   ],
   "source": [
    "MH_sim(3, 10**5)"
   ]
  },
  {
   "cell_type": "code",
   "execution_count": 36,
   "metadata": {},
   "outputs": [
    {
     "name": "stdout",
     "output_type": "stream",
     "text": [
      "司会の行動,回答者の行動,当たり,ハズレ,当たり率\n",
      "正解を知っている,ドアを変えない, 89874 10126 0.10126\n",
      "正解を知っている,ドアを変える, 74438 25562 0.25562\n",
      "正解を知らない,ドアを変えない, 89874 10126 0.10126\n",
      "正解を知らない,ドアを変える, 10126 10150 0.5005918327086211\n",
      "ズルをする,ドアを変えない, 89874 10126 0.10126\n",
      "ズルをする,ドアを変える, 100000 0 0.0\n"
     ]
    }
   ],
   "source": [
    "MH_sim(10, 10**5)"
   ]
  },
  {
   "cell_type": "code",
   "execution_count": null,
   "metadata": {},
   "outputs": [],
   "source": []
  }
 ],
 "metadata": {
  "kernelspec": {
   "display_name": "py11",
   "language": "python",
   "name": "python3"
  },
  "language_info": {
   "codemirror_mode": {
    "name": "ipython",
    "version": 3
   },
   "file_extension": ".py",
   "mimetype": "text/x-python",
   "name": "python",
   "nbconvert_exporter": "python",
   "pygments_lexer": "ipython3",
   "version": "3.11.3"
  },
  "orig_nbformat": 4
 },
 "nbformat": 4,
 "nbformat_minor": 2
}
