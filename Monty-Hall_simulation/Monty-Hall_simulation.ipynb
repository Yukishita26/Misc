{
 "cells": [
  {
   "cell_type": "code",
   "execution_count": 1,
   "id": "6bab9b48",
   "metadata": {},
   "outputs": [],
   "source": [
    "import numpy as np\n",
    "from collections import Counter"
   ]
  },
  {
   "cell_type": "code",
   "execution_count": 2,
   "id": "aed3c6fa",
   "metadata": {},
   "outputs": [],
   "source": [
    "def pMH():\n",
    "    # アタリを決定\n",
    "    place = np.random.randint(0, 99)\n",
    "\n",
    "    # 適当に選ぶ\n",
    "    selectA = np.random.randint(0, 99)\n",
    "    # 選んだもの以外の98個を除外したとき，もう一方を選びなおす\n",
    "    selectB = np.random.choice([i for i in range(100) if i!=selectA])\n",
    "    \n",
    "    if place==selectA:\n",
    "        return \"hit1\"\n",
    "    elif place==selectB:\n",
    "        return \"hit2\"\n",
    "    else:\n",
    "        # 98個を除外した中にアタリが合った場合\n",
    "        return \"fail\""
   ]
  },
  {
   "cell_type": "code",
   "execution_count": 3,
   "id": "a0d65292",
   "metadata": {},
   "outputs": [
    {
     "data": {
      "text/plain": [
       "Counter({'fail': 98032, 'hit1': 971, 'hit2': 997})"
      ]
     },
     "execution_count": 3,
     "metadata": {},
     "output_type": "execute_result"
    }
   ],
   "source": [
    "Counter([pMH() for _ in range(10**5)])"
   ]
  },
  {
   "cell_type": "code",
   "execution_count": 4,
   "id": "a6e169f9",
   "metadata": {},
   "outputs": [],
   "source": [
    "def MH():\n",
    "    # アタリを決定\n",
    "    place = np.random.randint(0, 99)\n",
    "\n",
    "    # 適当に選ぶ\n",
    "    selectA = np.random.randint(0, 99)\n",
    "    # 選んだものと正解以外の98個を除外したとき，もう一方を選びなおす\n",
    "    selectB = np.random.choice([i for i in range(100) if i!=place]) if selectA==place else place\n",
    "\n",
    "    if place == selectA:\n",
    "        return \"hit1\"\n",
    "    elif place == selectB:\n",
    "        return \"hit2\""
   ]
  },
  {
   "cell_type": "code",
   "execution_count": 5,
   "id": "fdf48e82",
   "metadata": {},
   "outputs": [
    {
     "data": {
      "text/plain": [
       "Counter({'hit2': 98988, 'hit1': 1012})"
      ]
     },
     "execution_count": 5,
     "metadata": {},
     "output_type": "execute_result"
    }
   ],
   "source": [
    "Counter([MH() for _ in range(10**5)])"
   ]
  },
  {
   "cell_type": "code",
   "execution_count": null,
   "id": "ec52c97e",
   "metadata": {},
   "outputs": [],
   "source": []
  }
 ],
 "metadata": {
  "kernelspec": {
   "display_name": "Python 3",
   "language": "python",
   "name": "python3"
  },
  "language_info": {
   "codemirror_mode": {
    "name": "ipython",
    "version": 3
   },
   "file_extension": ".py",
   "mimetype": "text/x-python",
   "name": "python",
   "nbconvert_exporter": "python",
   "pygments_lexer": "ipython3",
   "version": "3.8.10"
  }
 },
 "nbformat": 4,
 "nbformat_minor": 5
}
