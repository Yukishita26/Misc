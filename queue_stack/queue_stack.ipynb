{
 "cells": [
  {
   "cell_type": "code",
   "execution_count": 1,
   "id": "28b7c567",
   "metadata": {},
   "outputs": [],
   "source": [
    "import collections\n",
    "import queue\n",
    "import heapq"
   ]
  },
  {
   "cell_type": "markdown",
   "id": "ff58a4b7",
   "metadata": {},
   "source": [
    "queue"
   ]
  },
  {
   "cell_type": "code",
   "execution_count": 2,
   "id": "614ec9db",
   "metadata": {},
   "outputs": [
    {
     "name": "stdout",
     "output_type": "stream",
     "text": [
      "2.96 µs ± 63.2 ns per loop (mean ± std. dev. of 7 runs, 100000 loops each)\n"
     ]
    }
   ],
   "source": [
    "q = queue.Queue()\n",
    "for i in range(1000):\n",
    "    q.put(i)\n",
    "%timeit t=q.get(); q.put(t)"
   ]
  },
  {
   "cell_type": "code",
   "execution_count": 20,
   "id": "a9295b22",
   "metadata": {},
   "outputs": [
    {
     "name": "stdout",
     "output_type": "stream",
     "text": [
      "3.2 µs ± 109 ns per loop (mean ± std. dev. of 7 runs, 100000 loops each)\n"
     ]
    }
   ],
   "source": [
    "q = queue.Queue()\n",
    "for i in range(1000):\n",
    "    q.put_nowait(i)\n",
    "%timeit t=q.get_nowait(); q.put_nowait(t)"
   ]
  },
  {
   "cell_type": "code",
   "execution_count": 3,
   "id": "e8004781",
   "metadata": {},
   "outputs": [
    {
     "name": "stdout",
     "output_type": "stream",
     "text": [
      "120 ns ± 3.97 ns per loop (mean ± std. dev. of 7 runs, 10000000 loops each)\n"
     ]
    }
   ],
   "source": [
    "q = queue.SimpleQueue()\n",
    "for i in range(1000):\n",
    "    q.put(i)\n",
    "%timeit t=q.get(); q.put(t)"
   ]
  },
  {
   "cell_type": "code",
   "execution_count": 4,
   "id": "7d276d8d",
   "metadata": {},
   "outputs": [
    {
     "name": "stdout",
     "output_type": "stream",
     "text": [
      "107 ns ± 4.36 ns per loop (mean ± std. dev. of 7 runs, 10000000 loops each)\n"
     ]
    }
   ],
   "source": [
    "q = collections.deque()\n",
    "for i in range(1000):\n",
    "    q.append(i)\n",
    "%timeit t=q.popleft(); q.append(t)"
   ]
  },
  {
   "cell_type": "code",
   "execution_count": 5,
   "id": "93438ae9",
   "metadata": {
    "scrolled": true
   },
   "outputs": [
    {
     "name": "stdout",
     "output_type": "stream",
     "text": [
      "2.94 µs ± 76.6 ns per loop (mean ± std. dev. of 7 runs, 100000 loops each)\n"
     ]
    }
   ],
   "source": [
    "q = queue.Queue()\n",
    "for i in range(10000):\n",
    "    q.put(i)\n",
    "%timeit t=q.get(); q.put(t)"
   ]
  },
  {
   "cell_type": "code",
   "execution_count": 6,
   "id": "a7d30cf3",
   "metadata": {},
   "outputs": [
    {
     "name": "stdout",
     "output_type": "stream",
     "text": [
      "117 ns ± 3.15 ns per loop (mean ± std. dev. of 7 runs, 10000000 loops each)\n"
     ]
    }
   ],
   "source": [
    "q = queue.SimpleQueue()\n",
    "for i in range(10000):\n",
    "    q.put(i)\n",
    "%timeit t=q.get(); q.put(t)"
   ]
  },
  {
   "cell_type": "code",
   "execution_count": 7,
   "id": "e12e8a46",
   "metadata": {},
   "outputs": [
    {
     "name": "stdout",
     "output_type": "stream",
     "text": [
      "104 ns ± 2.57 ns per loop (mean ± std. dev. of 7 runs, 10000000 loops each)\n"
     ]
    }
   ],
   "source": [
    "q = collections.deque()\n",
    "for i in range(10000):\n",
    "    q.append(i)\n",
    "%timeit t=q.popleft(); q.append(t)"
   ]
  },
  {
   "cell_type": "markdown",
   "id": "307e8142",
   "metadata": {},
   "source": [
    "stack"
   ]
  },
  {
   "cell_type": "code",
   "execution_count": 8,
   "id": "5ccfe170",
   "metadata": {},
   "outputs": [
    {
     "name": "stdout",
     "output_type": "stream",
     "text": [
      "131 ns ± 4.45 ns per loop (mean ± std. dev. of 7 runs, 10000000 loops each)\n"
     ]
    }
   ],
   "source": [
    "s = [i for i in range(1000)]\n",
    "%timeit t=s.pop(); s.append(t)"
   ]
  },
  {
   "cell_type": "code",
   "execution_count": 9,
   "id": "08cb18b1",
   "metadata": {},
   "outputs": [
    {
     "name": "stdout",
     "output_type": "stream",
     "text": [
      "131 ns ± 7.92 ns per loop (mean ± std. dev. of 7 runs, 10000000 loops each)\n"
     ]
    }
   ],
   "source": [
    "s = collections.deque()\n",
    "for i in range(1000):\n",
    "    s.append(i)\n",
    "%timeit t=s.pop(); s.append(t)"
   ]
  },
  {
   "cell_type": "code",
   "execution_count": 10,
   "id": "6167db4d",
   "metadata": {},
   "outputs": [
    {
     "name": "stdout",
     "output_type": "stream",
     "text": [
      "2.96 µs ± 87.3 ns per loop (mean ± std. dev. of 7 runs, 100000 loops each)\n"
     ]
    }
   ],
   "source": [
    "s = queue.LifoQueue()\n",
    "for i in range(1000):\n",
    "    s.put(i)\n",
    "%timeit t=s.get(); s.put(t)"
   ]
  },
  {
   "cell_type": "code",
   "execution_count": 11,
   "id": "cddee0c3",
   "metadata": {},
   "outputs": [
    {
     "name": "stdout",
     "output_type": "stream",
     "text": [
      "130 ns ± 4.82 ns per loop (mean ± std. dev. of 7 runs, 10000000 loops each)\n"
     ]
    }
   ],
   "source": [
    "s = [i for i in range(10000)]\n",
    "%timeit t=s.pop(); s.append(t)"
   ]
  },
  {
   "cell_type": "code",
   "execution_count": 12,
   "id": "7c5614ff",
   "metadata": {},
   "outputs": [
    {
     "name": "stdout",
     "output_type": "stream",
     "text": [
      "131 ns ± 2.69 ns per loop (mean ± std. dev. of 7 runs, 10000000 loops each)\n"
     ]
    }
   ],
   "source": [
    "s = collections.deque()\n",
    "for i in range(10000):\n",
    "    s.append(i)\n",
    "%timeit t=s.pop(); s.append(t)"
   ]
  },
  {
   "cell_type": "code",
   "execution_count": 13,
   "id": "40d361df",
   "metadata": {},
   "outputs": [
    {
     "name": "stdout",
     "output_type": "stream",
     "text": [
      "3.2 µs ± 98.6 ns per loop (mean ± std. dev. of 7 runs, 100000 loops each)\n"
     ]
    }
   ],
   "source": [
    "s = queue.LifoQueue()\n",
    "for i in range(10000):\n",
    "    s.put(i)\n",
    "%timeit t=s.get(); s.put(t)"
   ]
  },
  {
   "cell_type": "markdown",
   "id": "0eb02b81",
   "metadata": {},
   "source": [
    "priority queue"
   ]
  },
  {
   "cell_type": "code",
   "execution_count": 14,
   "id": "08096a3a",
   "metadata": {},
   "outputs": [
    {
     "name": "stdout",
     "output_type": "stream",
     "text": [
      "370 ns ± 12 ns per loop (mean ± std. dev. of 7 runs, 1000000 loops each)\n"
     ]
    }
   ],
   "source": [
    "pq = []\n",
    "heapq.heapify(pq)\n",
    "for i in range(1000):\n",
    "    heapq.heappush(pq, i)\n",
    "%timeit t=heapq.heappop(pq); heapq.heappush(pq, t)"
   ]
  },
  {
   "cell_type": "code",
   "execution_count": 15,
   "id": "ac968fa7",
   "metadata": {},
   "outputs": [
    {
     "name": "stdout",
     "output_type": "stream",
     "text": [
      "99.4 ns ± 6.59 ns per loop (mean ± std. dev. of 7 runs, 10000000 loops each)\n"
     ]
    }
   ],
   "source": [
    "pq = []\n",
    "heapq.heapify(pq)\n",
    "for i in range(1000):\n",
    "    heapq.heappush(pq, i)\n",
    "t=heapq.heappop(pq)\n",
    "%timeit heapq.heappushpop(pq, t)"
   ]
  },
  {
   "cell_type": "code",
   "execution_count": 16,
   "id": "f7e519f7",
   "metadata": {},
   "outputs": [
    {
     "name": "stdout",
     "output_type": "stream",
     "text": [
      "3.23 µs ± 69.8 ns per loop (mean ± std. dev. of 7 runs, 100000 loops each)\n"
     ]
    }
   ],
   "source": [
    "pq = queue.PriorityQueue()\n",
    "for i in range(1000):\n",
    "    pq.put(i)\n",
    "%timeit t=pq.get(); pq.put(t)"
   ]
  },
  {
   "cell_type": "code",
   "execution_count": 17,
   "id": "a733a2cc",
   "metadata": {},
   "outputs": [
    {
     "name": "stdout",
     "output_type": "stream",
     "text": [
      "446 ns ± 19.1 ns per loop (mean ± std. dev. of 7 runs, 1000000 loops each)\n"
     ]
    }
   ],
   "source": [
    "pq = []\n",
    "heapq.heapify(pq)\n",
    "for i in range(10000):\n",
    "    heapq.heappush(pq, i)\n",
    "%timeit t=heapq.heappop(pq); heapq.heappush(pq, t)"
   ]
  },
  {
   "cell_type": "code",
   "execution_count": 18,
   "id": "64177d02",
   "metadata": {},
   "outputs": [
    {
     "name": "stdout",
     "output_type": "stream",
     "text": [
      "94 ns ± 1.39 ns per loop (mean ± std. dev. of 7 runs, 10000000 loops each)\n"
     ]
    }
   ],
   "source": [
    "pq = []\n",
    "heapq.heapify(pq)\n",
    "for i in range(10000):\n",
    "    heapq.heappush(pq, i)\n",
    "t=heapq.heappop(pq)\n",
    "%timeit heapq.heappushpop(pq, t)"
   ]
  },
  {
   "cell_type": "code",
   "execution_count": 19,
   "id": "cd5dd42a",
   "metadata": {},
   "outputs": [
    {
     "name": "stdout",
     "output_type": "stream",
     "text": [
      "3.31 µs ± 86.8 ns per loop (mean ± std. dev. of 7 runs, 100000 loops each)\n"
     ]
    }
   ],
   "source": [
    "pq = queue.PriorityQueue()\n",
    "for i in range(10000):\n",
    "    pq.put(i)\n",
    "%timeit t=pq.get(); pq.put(t)"
   ]
  },
  {
   "cell_type": "code",
   "execution_count": null,
   "id": "a0144731",
   "metadata": {},
   "outputs": [],
   "source": []
  }
 ],
 "metadata": {
  "kernelspec": {
   "display_name": "Python 3",
   "language": "python",
   "name": "python3"
  },
  "language_info": {
   "codemirror_mode": {
    "name": "ipython",
    "version": 3
   },
   "file_extension": ".py",
   "mimetype": "text/x-python",
   "name": "python",
   "nbconvert_exporter": "python",
   "pygments_lexer": "ipython3",
   "version": "3.8.10"
  }
 },
 "nbformat": 4,
 "nbformat_minor": 5
}
