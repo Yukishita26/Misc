{
 "cells": [
  {
   "cell_type": "code",
   "execution_count": 1,
   "id": "2de5e5e3",
   "metadata": {},
   "outputs": [],
   "source": [
    "import numpy as np\n",
    "import sympy as sp\n",
    "import matplotlib.pyplot as plt"
   ]
  },
  {
   "cell_type": "code",
   "execution_count": 145,
   "id": "35fd13fa",
   "metadata": {},
   "outputs": [],
   "source": [
    "l,m,n = sp.symbols(\"l,m,n\")\n",
    "r,theta,phi =sp.symbols(r\"r, \\theta, \\phi\")\n",
    "a0, Z = sp.symbols(r\"a_0, Z\")"
   ]
  },
  {
   "cell_type": "code",
   "execution_count": 146,
   "id": "bc65d096",
   "metadata": {},
   "outputs": [],
   "source": [
    "rho = sp.symbols(r\"\\rho\")"
   ]
  },
  {
   "cell_type": "code",
   "execution_count": 147,
   "id": "b9e9f525",
   "metadata": {},
   "outputs": [],
   "source": [
    "rho_n = Z/n/a0*rho"
   ]
  },
  {
   "cell_type": "code",
   "execution_count": 148,
   "id": "91890ab3",
   "metadata": {},
   "outputs": [],
   "source": [
    "def assoc_laguerre(x, n, k):\n",
    "    x_temp = sp.symbols(\"x_temp\")\n",
    "    return sp.simplify(sp.diff(sp.diff(x_temp**n*sp.exp(-x_temp),x_temp,n)*sp.exp(x_temp), x_temp, k).subs(x_temp, x))"
   ]
  },
  {
   "cell_type": "code",
   "execution_count": 149,
   "id": "00b2cb32",
   "metadata": {},
   "outputs": [
    {
     "data": {
      "text/latex": [
       "$\\displaystyle -1$"
      ],
      "text/plain": [
       "-1"
      ]
     },
     "execution_count": 149,
     "metadata": {},
     "output_type": "execute_result"
    }
   ],
   "source": [
    "assoc_laguerre(rho, 1, 1)"
   ]
  },
  {
   "cell_type": "code",
   "execution_count": 150,
   "id": "aa78031b",
   "metadata": {},
   "outputs": [
    {
     "data": {
      "text/latex": [
       "$\\displaystyle - 2 \\sqrt{\\frac{Z^{3} \\left(- l + n - 1\\right)!}{a_{0}^{3} n^{4} \\left(l + n\\right)!^{3}}}$"
      ],
      "text/plain": [
       "-2*sqrt(Z**3*factorial(-l + n - 1)/(a_0**3*n**4*factorial(l + n)**3))"
      ]
     },
     "execution_count": 150,
     "metadata": {},
     "output_type": "execute_result"
    }
   ],
   "source": [
    "Nc = -sp.sqrt(4*Z**3*sp.factorial(n-l-1)/n**4/sp.factorial(n+l)**3/a0**3)\n",
    "Nc"
   ]
  },
  {
   "cell_type": "code",
   "execution_count": 163,
   "id": "8f07b85d",
   "metadata": {},
   "outputs": [],
   "source": [
    "def RadialWF(l0, n0):\n",
    "    return sp.simplify((Nc * (rho_n)**l * sp.exp(-rho_n)).subs([(l,l0),(n,n0)]) * assoc_laguerre(rho_n, n0+l0, 2*l0+1).subs([(l,l0),(n,n0)]))"
   ]
  },
  {
   "cell_type": "code",
   "execution_count": 164,
   "id": "329bcd8f",
   "metadata": {},
   "outputs": [
    {
     "data": {
      "text/latex": [
       "$\\displaystyle 2 \\sqrt{\\frac{Z^{3}}{a_{0}^{3}}} e^{- \\frac{Z \\rho}{a_{0}}}$"
      ],
      "text/plain": [
       "2*sqrt(Z**3/a_0**3)*exp(-Z*\\rho/a_0)"
      ]
     },
     "execution_count": 164,
     "metadata": {},
     "output_type": "execute_result"
    }
   ],
   "source": [
    "RadialWF(0,1)"
   ]
  },
  {
   "cell_type": "code",
   "execution_count": 165,
   "id": "23a14294",
   "metadata": {},
   "outputs": [
    {
     "data": {
      "text/latex": [
       "$\\displaystyle 2 \\left(\\frac{Z \\rho}{a_{0} n}\\right)^{l} \\sqrt{\\frac{Z^{3} \\left(- l + n - 1\\right)!}{a_{0}^{3} n^{4} \\left(l + n\\right)!^{3}}} e^{- \\frac{Z \\rho}{2 a_{0} n}}$"
      ],
      "text/plain": [
       "2*(Z*\\rho/(a_0*n))**l*sqrt(Z**3*factorial(-l + n - 1)/(a_0**3*n**4*factorial(l + n)**3))*exp(-Z*\\rho/(2*a_0*n))"
      ]
     },
     "execution_count": 165,
     "metadata": {},
     "output_type": "execute_result"
    }
   ],
   "source": [
    "R = Nc * (rho_n)**l * sp.exp(-rho_n/2) * L\n",
    "R"
   ]
  },
  {
   "cell_type": "code",
   "execution_count": 166,
   "id": "3afc64eb",
   "metadata": {},
   "outputs": [
    {
     "data": {
      "text/latex": [
       "$\\displaystyle \\frac{\\left(-1\\right)^{\\frac{m}{2} + \\frac{\\left|{m}\\right|}{2}} \\sqrt{\\frac{\\left(\\frac{l}{2} + \\frac{1}{4}\\right) \\left(l - \\left|{m}\\right|\\right)!}{\\left(l + \\left|{m}\\right|\\right)!}}}{\\sqrt{\\pi}}$"
      ],
      "text/plain": [
       "(-1)**(m/2 + Abs(m)/2)*sqrt((l/2 + 1/4)*factorial(l - Abs(m))/factorial(l + Abs(m)))/sqrt(pi)"
      ]
     },
     "execution_count": 166,
     "metadata": {},
     "output_type": "execute_result"
    }
   ],
   "source": [
    "Yc = (-1)**((m+abs(m))/2) * sp.sqrt((2*l+1)/4/sp.pi * sp.factorial(l-abs(m))/sp.factorial(l+abs(m)))\n",
    "Yc"
   ]
  },
  {
   "cell_type": "code",
   "execution_count": 167,
   "id": "c3ff8a79",
   "metadata": {},
   "outputs": [
    {
     "data": {
      "text/latex": [
       "$\\displaystyle P_{l}^{\\left(\\left|{m}\\right|\\right)}\\left(\\cos{\\left(\\theta \\right)}\\right)$"
      ],
      "text/plain": [
       "assoc_legendre(l, Abs(m), cos(\\theta))"
      ]
     },
     "execution_count": 167,
     "metadata": {},
     "output_type": "execute_result"
    }
   ],
   "source": [
    "P = sp.assoc_legendre(l, abs(m), sp.cos(theta))\n",
    "P"
   ]
  },
  {
   "cell_type": "code",
   "execution_count": 168,
   "id": "05749d30",
   "metadata": {},
   "outputs": [
    {
     "data": {
      "text/latex": [
       "$\\displaystyle \\frac{\\left(-1\\right)^{\\frac{m}{2} + \\frac{\\left|{m}\\right|}{2}} \\sqrt{\\frac{\\left(\\frac{l}{2} + \\frac{1}{4}\\right) \\left(l - \\left|{m}\\right|\\right)!}{\\left(l + \\left|{m}\\right|\\right)!}} e^{i \\phi m} P_{l}^{\\left(\\left|{m}\\right|\\right)}\\left(\\cos{\\left(\\theta \\right)}\\right)}{\\sqrt{\\pi}}$"
      ],
      "text/plain": [
       "(-1)**(m/2 + Abs(m)/2)*sqrt((l/2 + 1/4)*factorial(l - Abs(m))/factorial(l + Abs(m)))*exp(I*\\phi*m)*assoc_legendre(l, Abs(m), cos(\\theta))/sqrt(pi)"
      ]
     },
     "execution_count": 168,
     "metadata": {},
     "output_type": "execute_result"
    }
   ],
   "source": [
    "Y = Yc * P * sp.exp(sp.I * m *  phi)\n",
    "Y"
   ]
  },
  {
   "cell_type": "code",
   "execution_count": 169,
   "id": "ebb7c0f8",
   "metadata": {},
   "outputs": [
    {
     "data": {
      "text/latex": [
       "$\\displaystyle 2 \\sqrt{\\frac{Z^{3}}{a_{0}^{3}}} e^{- \\frac{Z \\rho}{a_{0}}}$"
      ],
      "text/plain": [
       "2*sqrt(Z**3/a_0**3)*exp(-Z*\\rho/a_0)"
      ]
     },
     "execution_count": 169,
     "metadata": {},
     "output_type": "execute_result"
    }
   ],
   "source": [
    "RadialWF(0,1)"
   ]
  },
  {
   "cell_type": "code",
   "execution_count": 170,
   "id": "51343261",
   "metadata": {},
   "outputs": [],
   "source": [
    "def WaveFunction(_l,_m,_n):\n",
    "    return RadialWF(_l,_n) *  Y.subs([(l,_l),(m,_m)])"
   ]
  },
  {
   "cell_type": "code",
   "execution_count": 177,
   "id": "8e96e756",
   "metadata": {},
   "outputs": [
    {
     "data": {
      "text/latex": [
       "$\\displaystyle \\frac{e^{- \\rho}}{\\sqrt{\\pi}}$"
      ],
      "text/plain": [
       "exp(-\\rho)/sqrt(pi)"
      ]
     },
     "execution_count": 177,
     "metadata": {},
     "output_type": "execute_result"
    }
   ],
   "source": [
    "WF_1s = WaveFunction(0,0,1).subs([(Z,1),(a0,1)])\n",
    "WF_1s"
   ]
  },
  {
   "cell_type": "code",
   "execution_count": 178,
   "id": "41f6af67",
   "metadata": {},
   "outputs": [
    {
     "data": {
      "text/latex": [
       "$\\displaystyle \\frac{\\sqrt{2} \\left(4 - \\rho\\right) e^{- \\frac{\\rho}{2}}}{16 \\sqrt{\\pi}}$"
      ],
      "text/plain": [
       "sqrt(2)*(4 - \\rho)*exp(-\\rho/2)/(16*sqrt(pi))"
      ]
     },
     "execution_count": 178,
     "metadata": {},
     "output_type": "execute_result"
    }
   ],
   "source": [
    "WF_2s = WaveFunction(0,0,2).subs([(Z,1),(a0,1)])\n",
    "WF_2s"
   ]
  },
  {
   "cell_type": "code",
   "execution_count": 182,
   "id": "37090493",
   "metadata": {},
   "outputs": [
    {
     "data": {
      "text/latex": [
       "$\\displaystyle \\frac{\\sqrt{2} \\rho e^{- \\frac{\\rho}{2}} \\cos{\\left(\\theta \\right)}}{16 \\sqrt{\\pi}}$"
      ],
      "text/plain": [
       "sqrt(2)*\\rho*exp(-\\rho/2)*cos(\\theta)/(16*sqrt(pi))"
      ]
     },
     "execution_count": 182,
     "metadata": {},
     "output_type": "execute_result"
    }
   ],
   "source": [
    "WF_2p0 = WaveFunction(1,0,2).subs([(Z,1),(a0,1)])\n",
    "WF_2p0"
   ]
  },
  {
   "cell_type": "code",
   "execution_count": 183,
   "id": "61fe2852",
   "metadata": {},
   "outputs": [
    {
     "data": {
      "text/latex": [
       "$\\displaystyle \\frac{\\rho \\sqrt{1 - \\cos^{2}{\\left(\\theta \\right)}} e^{- \\frac{\\rho}{2}} e^{i \\phi}}{16 \\sqrt{\\pi}}$"
      ],
      "text/plain": [
       "\\rho*sqrt(1 - cos(\\theta)**2)*exp(-\\rho/2)*exp(I*\\phi)/(16*sqrt(pi))"
      ]
     },
     "execution_count": 183,
     "metadata": {},
     "output_type": "execute_result"
    }
   ],
   "source": [
    "WF_2pp = WaveFunction(1,1,2).subs([(Z,1),(a0,1)])\n",
    "WF_2pp"
   ]
  },
  {
   "cell_type": "code",
   "execution_count": 184,
   "id": "84f4c756",
   "metadata": {},
   "outputs": [
    {
     "data": {
      "text/latex": [
       "$\\displaystyle - \\frac{\\rho \\sqrt{1 - \\cos^{2}{\\left(\\theta \\right)}} e^{- \\frac{\\rho}{2}} e^{- i \\phi}}{16 \\sqrt{\\pi}}$"
      ],
      "text/plain": [
       "-\\rho*sqrt(1 - cos(\\theta)**2)*exp(-\\rho/2)*exp(-I*\\phi)/(16*sqrt(pi))"
      ]
     },
     "execution_count": 184,
     "metadata": {},
     "output_type": "execute_result"
    }
   ],
   "source": [
    "WF_2pm = WaveFunction(1,-1,2).subs([(Z,1),(a0,1)])\n",
    "WF_2pm"
   ]
  },
  {
   "cell_type": "code",
   "execution_count": 211,
   "id": "520739e9",
   "metadata": {},
   "outputs": [
    {
     "data": {
      "text/latex": [
       "$\\displaystyle 0.000686130838175615 + 6.61744490042422 \\cdot 10^{-24} i$"
      ],
      "text/plain": [
       "0.000686130838175615 + 6.61744490042422e-24*I"
      ]
     },
     "execution_count": 211,
     "metadata": {},
     "output_type": "execute_result"
    }
   ],
   "source": [
    "(sp.simplify(((1/sp.sqrt(2)*(WF_2pp + WF_2pm))*sp.conjugate(1/sp.sqrt(2)*(WF_2pp + WF_2pm))).subs([(rho,1),(theta,sp.pi/2),(phi,sp.pi/3)]))).evalf()"
   ]
  },
  {
   "cell_type": "code",
   "execution_count": 202,
   "id": "5dcf6231",
   "metadata": {},
   "outputs": [
    {
     "data": {
      "text/latex": [
       "$\\displaystyle \\frac{\\sqrt{6} \\rho^{2} \\left(\\frac{3 \\cos^{2}{\\left(\\theta \\right)}}{2} - \\frac{1}{2}\\right) e^{- \\frac{\\rho}{3}}}{972 \\sqrt{\\pi}}$"
      ],
      "text/plain": [
       "sqrt(6)*\\rho**2*(3*cos(\\theta)**2/2 - 1/2)*exp(-\\rho/3)/(972*sqrt(pi))"
      ]
     },
     "execution_count": 202,
     "metadata": {},
     "output_type": "execute_result"
    }
   ],
   "source": [
    "WaveFunction(2,0,3).subs([(Z,1),(a0,1)])"
   ]
  },
  {
   "cell_type": "code",
   "execution_count": 205,
   "id": "66a1ca55",
   "metadata": {},
   "outputs": [
    {
     "data": {
      "text/latex": [
       "$\\displaystyle \\frac{\\rho^{2} \\sqrt{1 - \\cos^{2}{\\left(\\theta \\right)}} e^{- \\frac{\\rho}{3}} e^{i \\phi} \\cos{\\left(\\theta \\right)}}{324 \\sqrt{\\pi}}$"
      ],
      "text/plain": [
       "\\rho**2*sqrt(1 - cos(\\theta)**2)*exp(-\\rho/3)*exp(I*\\phi)*cos(\\theta)/(324*sqrt(pi))"
      ]
     },
     "execution_count": 205,
     "metadata": {},
     "output_type": "execute_result"
    }
   ],
   "source": [
    "WaveFunction(2,1,3).subs([(Z,1),(a0,1)])"
   ]
  },
  {
   "cell_type": "code",
   "execution_count": 209,
   "id": "1a4f4ea4",
   "metadata": {},
   "outputs": [
    {
     "data": {
      "text/latex": [
       "$\\displaystyle \\frac{\\sqrt{5} \\rho^{3} \\left(\\frac{5 \\cos^{3}{\\left(\\theta \\right)}}{2} - \\frac{3 \\cos{\\left(\\theta \\right)}}{2}\\right) e^{- \\frac{\\rho}{4}}}{61440 \\sqrt{\\pi}}$"
      ],
      "text/plain": [
       "sqrt(5)*\\rho**3*(5*cos(\\theta)**3/2 - 3*cos(\\theta)/2)*exp(-\\rho/4)/(61440*sqrt(pi))"
      ]
     },
     "execution_count": 209,
     "metadata": {},
     "output_type": "execute_result"
    }
   ],
   "source": [
    "WaveFunction(3,0,4).subs([(Z,1),(a0,1)])"
   ]
  },
  {
   "cell_type": "code",
   "execution_count": null,
   "id": "ebd75f11",
   "metadata": {},
   "outputs": [],
   "source": []
  }
 ],
 "metadata": {
  "kernelspec": {
   "display_name": "Python 3",
   "language": "python",
   "name": "python3"
  },
  "language_info": {
   "codemirror_mode": {
    "name": "ipython",
    "version": 3
   },
   "file_extension": ".py",
   "mimetype": "text/x-python",
   "name": "python",
   "nbconvert_exporter": "python",
   "pygments_lexer": "ipython3",
   "version": "3.8.10"
  }
 },
 "nbformat": 4,
 "nbformat_minor": 5
}
