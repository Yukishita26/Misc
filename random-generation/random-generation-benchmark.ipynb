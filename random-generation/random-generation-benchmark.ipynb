{
 "cells": [
  {
   "cell_type": "code",
   "execution_count": 1,
   "id": "525242cf",
   "metadata": {
    "ExecuteTime": {
     "end_time": "2021-10-19T11:24:59.397204Z",
     "start_time": "2021-10-19T11:24:59.289484Z"
    }
   },
   "outputs": [],
   "source": [
    "import random\n",
    "import math\n",
    "import numpy as np"
   ]
  },
  {
   "cell_type": "markdown",
   "id": "e7121135",
   "metadata": {},
   "source": [
    "## 一様分布 $[-1,1)$"
   ]
  },
  {
   "cell_type": "markdown",
   "id": "02fb400c",
   "metadata": {},
   "source": [
    "numpy: array"
   ]
  },
  {
   "cell_type": "code",
   "execution_count": 2,
   "id": "d13af135",
   "metadata": {
    "ExecuteTime": {
     "end_time": "2021-10-19T11:25:06.970093Z",
     "start_time": "2021-10-19T11:24:59.398204Z"
    }
   },
   "outputs": [
    {
     "name": "stdout",
     "output_type": "stream",
     "text": [
      "9.32 µs ± 119 ns per loop (mean ± std. dev. of 7 runs, 100000 loops each)\n"
     ]
    }
   ],
   "source": [
    "%timeit np.random.rand(1000)*2-1"
   ]
  },
  {
   "cell_type": "markdown",
   "id": "3f99b851",
   "metadata": {},
   "source": [
    "numpy: for-loop"
   ]
  },
  {
   "cell_type": "code",
   "execution_count": 3,
   "id": "911f2271",
   "metadata": {
    "ExecuteTime": {
     "end_time": "2021-10-19T11:25:10.012305Z",
     "start_time": "2021-10-19T11:25:06.971070Z"
    }
   },
   "outputs": [
    {
     "name": "stdout",
     "output_type": "stream",
     "text": [
      "373 µs ± 6.34 µs per loop (mean ± std. dev. of 7 runs, 1000 loops each)\n"
     ]
    }
   ],
   "source": [
    "%timeit [np.random.rand()*2-1 for _ in range(1000)]"
   ]
  },
  {
   "cell_type": "markdown",
   "id": "fa2b3b01",
   "metadata": {},
   "source": [
    "random"
   ]
  },
  {
   "cell_type": "code",
   "execution_count": 4,
   "id": "792194d1",
   "metadata": {
    "ExecuteTime": {
     "end_time": "2021-10-19T11:25:21.297033Z",
     "start_time": "2021-10-19T11:25:10.013274Z"
    }
   },
   "outputs": [
    {
     "name": "stdout",
     "output_type": "stream",
     "text": [
      "139 µs ± 1.31 µs per loop (mean ± std. dev. of 7 runs, 10000 loops each)\n"
     ]
    }
   ],
   "source": [
    "%timeit [random.random()*2-1 for _ in range(1000)]"
   ]
  },
  {
   "cell_type": "markdown",
   "id": "5d748bac",
   "metadata": {},
   "source": [
    "⇒ 一度に大量に必要なときは np.ndarray で生成するのが一番速いが，逐次生成する必要があるときはrandomの方が速い．"
   ]
  },
  {
   "cell_type": "markdown",
   "id": "46b746eb",
   "metadata": {},
   "source": [
    "## Gauss分布(0,1)"
   ]
  },
  {
   "cell_type": "markdown",
   "id": "530b2188",
   "metadata": {},
   "source": [
    "numpy: array"
   ]
  },
  {
   "cell_type": "code",
   "execution_count": 5,
   "id": "ff5dc596",
   "metadata": {
    "ExecuteTime": {
     "end_time": "2021-10-19T11:25:23.323804Z",
     "start_time": "2021-10-19T11:25:21.298030Z"
    }
   },
   "outputs": [
    {
     "name": "stdout",
     "output_type": "stream",
     "text": [
      "24.9 µs ± 378 ns per loop (mean ± std. dev. of 7 runs, 10000 loops each)\n"
     ]
    }
   ],
   "source": [
    "%timeit np.random.normal(0, 1, 1000)"
   ]
  },
  {
   "cell_type": "markdown",
   "id": "d3ea4d06",
   "metadata": {},
   "source": [
    "numpy: array-randn"
   ]
  },
  {
   "cell_type": "code",
   "execution_count": 6,
   "id": "3ffcd48b",
   "metadata": {
    "ExecuteTime": {
     "end_time": "2021-10-19T11:25:25.038031Z",
     "start_time": "2021-10-19T11:25:23.324802Z"
    }
   },
   "outputs": [
    {
     "name": "stdout",
     "output_type": "stream",
     "text": [
      "21 µs ± 280 ns per loop (mean ± std. dev. of 7 runs, 10000 loops each)\n"
     ]
    }
   ],
   "source": [
    "%timeit np.random.randn(1000)"
   ]
  },
  {
   "cell_type": "markdown",
   "id": "af4c4f11",
   "metadata": {},
   "source": [
    "numpy: for-loop"
   ]
  },
  {
   "cell_type": "code",
   "execution_count": 7,
   "id": "cd50ab1f",
   "metadata": {
    "ExecuteTime": {
     "end_time": "2021-10-19T11:25:40.819411Z",
     "start_time": "2021-10-19T11:25:25.040025Z"
    }
   },
   "outputs": [
    {
     "name": "stdout",
     "output_type": "stream",
     "text": [
      "1.94 ms ± 20.4 µs per loop (mean ± std. dev. of 7 runs, 1000 loops each)\n"
     ]
    }
   ],
   "source": [
    "%timeit [np.random.normal(0, 1) for _ in range(1000)]"
   ]
  },
  {
   "cell_type": "markdown",
   "id": "98a2763f",
   "metadata": {},
   "source": [
    "random: gauss  \n",
    "※「This is slightly faster than the normalvariate() function defined below.」"
   ]
  },
  {
   "cell_type": "code",
   "execution_count": 8,
   "id": "278974c2",
   "metadata": {
    "ExecuteTime": {
     "end_time": "2021-10-19T11:25:46.042155Z",
     "start_time": "2021-10-19T11:25:40.821375Z"
    }
   },
   "outputs": [
    {
     "name": "stdout",
     "output_type": "stream",
     "text": [
      "643 µs ± 17.1 µs per loop (mean ± std. dev. of 7 runs, 1000 loops each)\n"
     ]
    }
   ],
   "source": [
    "%timeit [random.gauss(0, 1) for _ in range(1000)]"
   ]
  },
  {
   "cell_type": "markdown",
   "id": "f49d0eb2",
   "metadata": {},
   "source": [
    "random: normalvariate"
   ]
  },
  {
   "cell_type": "code",
   "execution_count": 9,
   "id": "be12d9bc",
   "metadata": {
    "ExecuteTime": {
     "end_time": "2021-10-19T11:25:52.260037Z",
     "start_time": "2021-10-19T11:25:46.043067Z"
    }
   },
   "outputs": [
    {
     "name": "stdout",
     "output_type": "stream",
     "text": [
      "761 µs ± 13.5 µs per loop (mean ± std. dev. of 7 runs, 1000 loops each)\n"
     ]
    }
   ],
   "source": [
    "%timeit [random.normalvariate(0, 1) for _ in range(1000)]"
   ]
  },
  {
   "cell_type": "markdown",
   "id": "1622b916",
   "metadata": {},
   "source": [
    "### Box–Muller's method"
   ]
  },
  {
   "cell_type": "markdown",
   "id": "5df94941",
   "metadata": {},
   "source": [
    "numpy: array"
   ]
  },
  {
   "cell_type": "code",
   "execution_count": 10,
   "id": "55d2edf3",
   "metadata": {
    "ExecuteTime": {
     "end_time": "2021-10-19T11:25:54.596375Z",
     "start_time": "2021-10-19T11:25:52.260938Z"
    }
   },
   "outputs": [
    {
     "name": "stdout",
     "output_type": "stream",
     "text": [
      "28.7 µs ± 136 ns per loop (mean ± std. dev. of 7 runs, 10000 loops each)\n"
     ]
    }
   ],
   "source": [
    "%%timeit\n",
    "X,Y=np.random.rand(2, 500)\n",
    "t=np.sqrt(-2*np.log(X))\n",
    "u=2*np.pi*Y\n",
    "r=np.concatenate([t*np.cos(u),t*np.sin(u)])"
   ]
  },
  {
   "cell_type": "markdown",
   "id": "bd8b0af2",
   "metadata": {},
   "source": [
    "numpy: for-loop"
   ]
  },
  {
   "cell_type": "code",
   "execution_count": 11,
   "id": "2f0b4cc8",
   "metadata": {
    "ExecuteTime": {
     "end_time": "2021-10-19T11:25:57.289994Z",
     "start_time": "2021-10-19T11:25:54.597319Z"
    }
   },
   "outputs": [
    {
     "name": "stdout",
     "output_type": "stream",
     "text": [
      "3.3 ms ± 85.3 µs per loop (mean ± std. dev. of 7 runs, 100 loops each)\n"
     ]
    }
   ],
   "source": [
    "%%timeit\n",
    "r=[]\n",
    "for _ in range(500):\n",
    "    X,Y=np.random.rand(2)\n",
    "    t=np.sqrt(-2*np.log(X))\n",
    "    r+=[t*np.cos(2*np.pi*Y),t*np.sin(2*np.pi*Y)]"
   ]
  },
  {
   "cell_type": "markdown",
   "id": "78fd12c6",
   "metadata": {},
   "source": [
    "random+math"
   ]
  },
  {
   "cell_type": "code",
   "execution_count": 12,
   "id": "38f8425a",
   "metadata": {
    "ExecuteTime": {
     "end_time": "2021-10-19T11:26:01.120886Z",
     "start_time": "2021-10-19T11:25:57.290905Z"
    }
   },
   "outputs": [
    {
     "name": "stdout",
     "output_type": "stream",
     "text": [
      "471 µs ± 7.91 µs per loop (mean ± std. dev. of 7 runs, 1000 loops each)\n"
     ]
    }
   ],
   "source": [
    "%%timeit\n",
    "r = []\n",
    "for _ in range(500):\n",
    "    X,Y = random.random(),random.random()\n",
    "    t = math.sqrt(-2*math.log(X))\n",
    "    u = 2*math.pi*Y\n",
    "    r += [t*math.cos(u), t*math.sin(u)]"
   ]
  },
  {
   "cell_type": "markdown",
   "id": "718568ef",
   "metadata": {},
   "source": [
    "⇒ 一様分布と同様，一度に生成するときは numpy.ndarray，逐次ではrandom.gaussが速い．2個ずつならBox–Muller法でやるとループが減って速くなるかも（内部的にはrandom.gaussと同じ）．"
   ]
  },
  {
   "cell_type": "code",
   "execution_count": null,
   "id": "249a2ea3",
   "metadata": {},
   "outputs": [],
   "source": []
  }
 ],
 "metadata": {
  "kernelspec": {
   "display_name": "Python 3",
   "language": "python",
   "name": "python3"
  },
  "language_info": {
   "codemirror_mode": {
    "name": "ipython",
    "version": 3
   },
   "file_extension": ".py",
   "mimetype": "text/x-python",
   "name": "python",
   "nbconvert_exporter": "python",
   "pygments_lexer": "ipython3",
   "version": "3.8.10"
  },
  "varInspector": {
   "cols": {
    "lenName": 16,
    "lenType": 16,
    "lenVar": 40
   },
   "kernels_config": {
    "python": {
     "delete_cmd_postfix": "",
     "delete_cmd_prefix": "del ",
     "library": "var_list.py",
     "varRefreshCmd": "print(var_dic_list())"
    },
    "r": {
     "delete_cmd_postfix": ") ",
     "delete_cmd_prefix": "rm(",
     "library": "var_list.r",
     "varRefreshCmd": "cat(var_dic_list()) "
    }
   },
   "types_to_exclude": [
    "module",
    "function",
    "builtin_function_or_method",
    "instance",
    "_Feature"
   ],
   "window_display": false
  }
 },
 "nbformat": 4,
 "nbformat_minor": 5
}
